{
 "cells": [
  {
   "cell_type": "markdown",
   "metadata": {},
   "source": [
    "# Liste in Python\n",
    "\n",
    "Una lista è una struttura dati Python che può contenere qualunque combinazione di tipi di dato che abbiamo studiato finora."
   ]
  },
  {
   "cell_type": "code",
   "execution_count": null,
   "metadata": {},
   "outputs": [],
   "source": [
    "lista_a_caso = [1, 3.4, 'una stringa', True]"
   ]
  },
  {
   "cell_type": "markdown",
   "metadata": {},
   "source": [
    "Questa è una lista di 4 elementi: le liste sono **contenitori ordinati di valori** (come le stringhe) e si può accedere ai singoli elementi che contengono usando un indice che parte da 0.\n",
    "\n",
    "Per estrarre il primo valore possiamo scrivere:"
   ]
  },
  {
   "cell_type": "code",
   "execution_count": null,
   "metadata": {},
   "outputs": [],
   "source": [
    "print(lista_a_caso[0])"
   ]
  },
  {
   "cell_type": "markdown",
   "metadata": {},
   "source": [
    "Per estrarre l'ultimo elemento della lista possiamo usare uno dei seguenti due metodi alternativi:"
   ]
  },
  {
   "cell_type": "code",
   "execution_count": null,
   "metadata": {},
   "outputs": [],
   "source": [
    "print(lista_a_caso[len(lista_a_caso) - 1] )"
   ]
  },
  {
   "cell_type": "code",
   "execution_count": null,
   "metadata": {},
   "outputs": [],
   "source": [
    "print(lista_a_caso[-1] )"
   ]
  },
  {
   "cell_type": "markdown",
   "metadata": {},
   "source": [
    "## Slicing delle liste\n",
    "Possiamo estrarre più di un valore dalla lista usando lo slicing come nell'istruzione successiva."
   ]
  },
  {
   "cell_type": "code",
   "execution_count": null,
   "metadata": {},
   "outputs": [],
   "source": [
    "print(lista_a_caso[1:2])"
   ]
  },
  {
   "cell_type": "markdown",
   "metadata": {},
   "source": [
    "Importante ricordare che il primo indice dello slicing è incluso mentre il secondo non è incluso nel risultato: lo slicing estrae gli elementi a partire dal valore con indice uguale al primo numero contenuto nelle parentesi quadre fino all'elemento con indice uguale al secondo numero contenuto nelle parentesi quadre (ma questo secondo elemento non è incluso).\n",
    "\n",
    "Se vuoi partire dal primo elemento, puoi evitare di inserire il primo numero:"
   ]
  },
  {
   "cell_type": "code",
   "execution_count": null,
   "metadata": {},
   "outputs": [],
   "source": [
    "print(lista_a_caso[:2])"
   ]
  },
  {
   "cell_type": "markdown",
   "metadata": {},
   "source": [
    "o se vuoi arrivare fino alla fine della lista, puoi non scrivere il secondo numero."
   ]
  },
  {
   "cell_type": "code",
   "execution_count": null,
   "metadata": {},
   "outputs": [],
   "source": [
    "print(lista_a_caso[1:])"
   ]
  },
  {
   "cell_type": "markdown",
   "metadata": {},
   "source": [
    "Questa indicizzazione funziona anche sulle stringhe.\n",
    "\n",
    "## Operatore in\n",
    "\n",
    "L'operatore in restituisce un booleano che ci indica se un elemento appartiene o no ad una lista (o se una sottostringa appartiene a una determinata stringa)."
   ]
  },
  {
   "cell_type": "code",
   "execution_count": null,
   "metadata": {},
   "outputs": [],
   "source": [
    "print('questa' in 'questa è una stringa')"
   ]
  },
  {
   "cell_type": "code",
   "execution_count": null,
   "metadata": {},
   "outputs": [],
   "source": [
    "print('in' in 'questa è una stringa')"
   ]
  },
  {
   "cell_type": "code",
   "execution_count": null,
   "metadata": {},
   "outputs": [],
   "source": [
    "print('èuna' in 'questa è una stringa')"
   ]
  },
  {
   "cell_type": "code",
   "execution_count": null,
   "metadata": {},
   "outputs": [],
   "source": [
    "print(5 not in [1, 2, 3, 4, 6])"
   ]
  },
  {
   "cell_type": "code",
   "execution_count": null,
   "metadata": {},
   "outputs": [],
   "source": [
    "5 in [1, 2, 3, 4, 6]"
   ]
  },
  {
   "cell_type": "markdown",
   "metadata": {},
   "source": [
    "## Mutabilità\n",
    "La mutabilità è la proprietà di un oggetto di essere modificato dopo essere stato creato. Se un oggetto può essere modificato si dice mutabile, altrimenti si dice immutabile.\n",
    "\n",
    "**Le liste sono mutabili, le stringhe sono immutabili.**"
   ]
  },
  {
   "cell_type": "code",
   "execution_count": null,
   "metadata": {},
   "outputs": [],
   "source": [
    "lista = [1, 2, 3, 4, 5]\n",
    "lista[0] = 'uno'\n",
    "print(lista)"
   ]
  },
  {
   "cell_type": "markdown",
   "metadata": {},
   "source": [
    "Siamo stati in grado di modificare il primo elemento della lista perché le liste sono mutabili.\n",
    "\n",
    "Il codice seguente, invece, non può funzionare."
   ]
  },
  {
   "cell_type": "code",
   "execution_count": null,
   "metadata": {},
   "outputs": [],
   "source": [
    "saluto = \"Ciao a tutti\"\n",
    "saluto[-1] = 'e'"
   ]
  },
  {
   "cell_type": "markdown",
   "metadata": {},
   "source": [
    "Viene mostrato un errore perché le stringhe sono immutabili e non possono essere modificate dopo essere state create.\n",
    "Tuttavia, le linee seguenti di codice non generano alcun errore"
   ]
  },
  {
   "cell_type": "code",
   "execution_count": null,
   "metadata": {},
   "outputs": [],
   "source": [
    "saluto = \"Ciao a tutti\"\n",
    "saluto = \"Ciao a tutte\""
   ]
  },
  {
   "cell_type": "markdown",
   "metadata": {},
   "source": [
    "La seconda istruzione crea un nuovo spazio nella memoria centrale dove la stringa è memorizzata, creando una nuova stringa, cioè un nuovo oggetto anche se con lo stesso nome.\n",
    "\n",
    "Bisogna fare attenzione ad assegnare una lista ad un'altra lista come nel frammento di codice seguente."
   ]
  },
  {
   "cell_type": "code",
   "execution_count": 4,
   "metadata": {},
   "outputs": [
    {
     "name": "stdout",
     "output_type": "stream",
     "text": [
      "[0, 2, 3, 4]\n",
      "[0, 2, 3, 4]\n"
     ]
    }
   ],
   "source": [
    "lista1 = [1,2,3,4]\n",
    "lista2 = lista1\n",
    "lista2[0] = 0\n",
    "print(lista1)\n",
    "print(lista2)\n"
   ]
  },
  {
   "cell_type": "markdown",
   "metadata": {},
   "source": [
    "L'istruzione `lista2 = lista1` NON crea un nuovo spazio di memoria per lista2 ma semplicemente lista2 punta alla stessa cella di memoria di lista1.\n",
    "\n",
    "Le istruzioni che modificano lista2 e lista1 modificano la stessa lista e quindi i cambiamenti si riflettono su entrambe le variabili che sono due nomi diversi per indicare la stessa lista.\n",
    "\n",
    "## Funzioni per le liste\n",
    "\n",
    "Le funzioni accettano come parametro una lista e NON modificano mai la lista passata come parametro.\n",
    "\n",
    "- len() restituisce il numero di elementi nella lista.\n",
    "- max() restituisce l'elemento più grande all'interno della lista. Si può usare solo se la lista contiene elementi dello stesso tipo (tutti int, tutti float, tutte stringhe). Se la lista contiene numeri restituisce il numero più grande. Se la lista contiene stringhe restituisce la stringa che si troverebbe per ultima nel dizionario.\n",
    "- min() restituisce l'elemento più piccolo all'interno della lista. Funziona in modo identico a max().\n",
    "- sorted() restituisce una copia della lista ordinata dall'elemento più piccolo al più grande e non modifica la lista di partenza. Funziona anche con le stringhe."
   ]
  },
  {
   "cell_type": "code",
   "execution_count": null,
   "metadata": {},
   "outputs": [],
   "source": [
    "lista = [34, 46, 23, 15]"
   ]
  },
  {
   "cell_type": "code",
   "execution_count": null,
   "metadata": {},
   "outputs": [],
   "source": [
    "print(len(lista))"
   ]
  },
  {
   "cell_type": "code",
   "execution_count": null,
   "metadata": {},
   "outputs": [],
   "source": [
    "print(max(lista))"
   ]
  },
  {
   "cell_type": "code",
   "execution_count": null,
   "metadata": {},
   "outputs": [],
   "source": [
    "print(min(lista))"
   ]
  },
  {
   "cell_type": "code",
   "execution_count": null,
   "metadata": {},
   "outputs": [],
   "source": [
    "print(sorted(lista))"
   ]
  },
  {
   "cell_type": "code",
   "execution_count": null,
   "metadata": {},
   "outputs": [],
   "source": [
    "print(sorted(lista, reverse=True))"
   ]
  },
  {
   "cell_type": "markdown",
   "metadata": {},
   "source": [
    "## Metodi per le liste\n",
    "\n",
    "I metodi si applicano dopo il nome della lista seguito da un punto e modificano la lista a cui sono applicati.\n",
    "\n",
    "- Join è un metodo per stringhe che accetta come parametro una lista di stringhe e e restituisce una singola stringa formata dagli elementi della lista uniti da una stringa separatrice:"
   ]
  },
  {
   "cell_type": "code",
   "execution_count": null,
   "metadata": {},
   "outputs": [],
   "source": [
    "nuova_stringa = \"\\n\".join([\"a\", \"b\", \"c\", \"d\"])\n",
    "print(nuova_stringa)"
   ]
  },
  {
   "cell_type": "markdown",
   "metadata": {},
   "source": [
    "Abbiamo usato \"\\n\" come separatore: quindi è stata aggiunta una riga vuota tra ogni elemento della lista."
   ]
  },
  {
   "cell_type": "code",
   "execution_count": null,
   "metadata": {},
   "outputs": [],
   "source": [
    "nome = \"-\".join([\"Giovanni\", \"Pedroncelli\"])\n",
    "print(nome)"
   ]
  },
  {
   "cell_type": "markdown",
   "metadata": {},
   "source": [
    "- Il metodo append permette di aggiungere un elemento alla fine di una lista"
   ]
  },
  {
   "cell_type": "code",
   "execution_count": null,
   "metadata": {},
   "outputs": [],
   "source": [
    "lettere = ['a', 'b', 'c', 'd']\n",
    "lettere.append('z')\n",
    "print(lettere)"
   ]
  },
  {
   "cell_type": "markdown",
   "metadata": {},
   "source": [
    "- Il metodo remove permette di rimuovere un elemento dalla lista e accetta come parametro l'elemento da rimuovere:"
   ]
  },
  {
   "cell_type": "code",
   "execution_count": null,
   "metadata": {},
   "outputs": [],
   "source": [
    "lettere = ['a', 'b', 'c', 'd']\n",
    "lettere.remove('c')\n",
    "print(lettere)"
   ]
  },
  {
   "cell_type": "markdown",
   "metadata": {},
   "source": [
    "- Il metodo insert permette di inserire un elemento e accetta due parametri: l'indice della lista in cui inserire il valore e il valore da inserire:"
   ]
  },
  {
   "cell_type": "code",
   "execution_count": null,
   "metadata": {},
   "outputs": [],
   "source": [
    "lettere = ['a', 'b', 'd']\n",
    "lettere.insert(2, 'c')\n",
    "print(lettere)"
   ]
  },
  {
   "cell_type": "markdown",
   "metadata": {},
   "source": [
    "- Il metodo pop permette di rimuovere un elemento dalla lista e accetta come parametro la posizione dell'elemento da rimuovere"
   ]
  },
  {
   "cell_type": "code",
   "execution_count": null,
   "metadata": {},
   "outputs": [],
   "source": [
    "lettere = ['a', 'b', 'c', 'd']\n",
    "lettere.pop(1)\n",
    "print(lettere)"
   ]
  },
  {
   "cell_type": "markdown",
   "metadata": {},
   "source": [
    "Se non passiamo alcun parametro al metodo pop verrà rimosso l'ultimo elemento della lista"
   ]
  },
  {
   "cell_type": "code",
   "execution_count": null,
   "metadata": {},
   "outputs": [],
   "source": [
    "lettere = ['a', 'b', 'c', 'd']\n",
    "lettere.pop()\n",
    "print(lettere)"
   ]
  },
  {
   "cell_type": "markdown",
   "metadata": {},
   "source": [
    "- Il metodo sort() è uguale alla funzione sorted() ma, essendo un metodo, modifica la lista a cui è applicato."
   ]
  },
  {
   "cell_type": "code",
   "execution_count": null,
   "metadata": {},
   "outputs": [],
   "source": [
    "lista = [34, 46, 23, 15]\n",
    "lista.sort()\n",
    "print(lista)"
   ]
  },
  {
   "cell_type": "markdown",
   "metadata": {},
   "source": [
    "\n",
    "### Il metodo `index`\n",
    "\n",
    "Il metodo `index` è utilizzato per trovare la posizione di un elemento all'interno di una lista. Restituisce l'indice della prima occorrenza dell'elemento specificato. Se l'elemento non è presente nella lista, viene sollevata un'eccezione `ValueError`.\n",
    "\n",
    "Esempio di utilizzo:"
   ]
  },
  {
   "cell_type": "code",
   "execution_count": 4,
   "metadata": {},
   "outputs": [
    {
     "name": "stdout",
     "output_type": "stream",
     "text": [
      "12\n"
     ]
    }
   ],
   "source": [
    "# lista di nomi\n",
    "nomi = ['Giovanni', 'Alessandro', 'Paolo', 'Marco']\n",
    "# lista di età\n",
    "eta = [23, 45, 12, 34]\n",
    "# uso del metodo index per trovare la posizione di un elemento\n",
    "posizione = nomi.index('Paolo')\n",
    "# uso della posizione per trovare l'età corrispondente\n",
    "print(eta[posizione])\n",
    "\n"
   ]
  },
  {
   "cell_type": "markdown",
   "metadata": {},
   "source": [
    "## Ciclo for sulle liste\n",
    "\n",
    "La lista è un tipo di dato iterabile, un oggetto che può restituire uno dei suoi elementi in ogni iterazione di un ciclo."
   ]
  },
  {
   "cell_type": "code",
   "execution_count": null,
   "metadata": {},
   "outputs": [],
   "source": [
    "numeri = [3, 7, 2, 1, 4, 6, 5, 8]\n",
    "numeri_pari = []\n",
    "for numero in numeri:\n",
    "\tif numero % 2 == 0:\n",
    "\t\tnumeri_pari.append(numero)"
   ]
  },
  {
   "cell_type": "markdown",
   "metadata": {},
   "source": [
    "Nell'esempio il ciclo for serve a iterare sulla lista numeri e a riempire una nuova lista numeri_pari che conterrà solo i numeri pari inclusi nella lista numeri. La variabile numero è un iteratore: ad ogni iterazione del ciclo conterrà uno degli elementi della lista numeri. Nella prima iterazione numero = 3, nella seconda numero = 7 e così via fino ad arrivare all'ultimo elemento della lista nell'ultima iterazione.\n",
    "### Esercizi"
   ]
  },
  {
   "cell_type": "code",
   "execution_count": 3,
   "metadata": {},
   "outputs": [
    {
     "name": "stdout",
     "output_type": "stream",
     "text": [
      "Il mese di Gennaio ha 31 giorni\n"
     ]
    }
   ],
   "source": [
    "'''\n",
    "Scrivere una funzione in Python che accetta in input il nome di un mese (chiesto in input prima di invocare la funzione) e restituisce il numero di giorni di quel mese. Dopo aver invocato la funzione stampare una stringa contenente il risultato.\n",
    "Non è possibile usare if ed elif.\n",
    "Può essere utile definire una lista di 12 elementi contenente, in modo ordinato, i giorni di ciascun mese dell'anno.\n",
    "'''"
   ]
  },
  {
   "cell_type": "code",
   "execution_count": null,
   "metadata": {},
   "outputs": [],
   "source": [
    "'''\n",
    "Data la lista sotto, scrivere le istruzioni Python che permettono di:\n",
    "\n",
    "- aggiungere la seguente data alla fine della lista: '21 agosto 2017'\n",
    "- rimuovere l'eclissi in data '31 agosto 2011'\n",
    "- aggiungere la seguente data al posto giusto nella lista: '1 agosto 2008'\n",
    "- rimuovere la seconda eclissi nella lista\n",
    "- modificare la data '23 novembre 2012' che è un refuso: la data corretta è '13 novembre 2012'\n",
    "- stampare la quarta eclissi\n",
    "- stampare la terzultima eclissi\n",
    "- stampare le prime tre eclissi\n",
    "- stampare le ultime tre eclissi\n",
    "- stampare le eclissi che si sono verificate nel decennio 2006-2015\n",
    "- stampare le eclissi che si sono verificate a novembre\n",
    "\n",
    "'''\n",
    "\n",
    "date_eclissi = ['21 giugno 2001', '23 agosto 2002', '4 dicembre 2002', '23 novembre 2003',\n",
    "\t '29 marzo 2006', '22 luglio 2009',\n",
    "\t '11 luglio 2010', '31 agosto 2011', '23 novembre 2012', '20 marzo 2015',\n",
    "\t '9 marzo 2016']   \n"
   ]
  },
  {
   "cell_type": "code",
   "execution_count": null,
   "metadata": {},
   "outputs": [],
   "source": [
    "'''\n",
    "Scrivere una funzione che accetta come parametro una lista di stringhe e restituisce:\n",
    "- una lista con tutte le stringhe con l'iniziale maiuscola\n",
    "- una lista con le stringhe condensate in un'unica stringa e separate da una virgola\n",
    "- la stringa più lunga\n",
    "- una lista contenente le stringhe ordinate da quella alfabeticamente maggiore a quella alfabeticamente minore\n",
    "\n",
    "'''"
   ]
  }
 ],
 "metadata": {
  "kernelspec": {
   "display_name": "Python 3",
   "language": "python",
   "name": "python3"
  },
  "language_info": {
   "codemirror_mode": {
    "name": "ipython",
    "version": 3
   },
   "file_extension": ".py",
   "mimetype": "text/x-python",
   "name": "python",
   "nbconvert_exporter": "python",
   "pygments_lexer": "ipython3",
   "version": "3.10.8"
  }
 },
 "nbformat": 4,
 "nbformat_minor": 4
}
